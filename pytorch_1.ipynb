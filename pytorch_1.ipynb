{
  "nbformat": 4,
  "nbformat_minor": 0,
  "metadata": {
    "colab": {
      "provenance": [],
      "authorship_tag": "ABX9TyMiSbI+A4KRjGfWKcHqR6vs",
      "include_colab_link": true
    },
    "kernelspec": {
      "name": "python3",
      "display_name": "Python 3"
    },
    "language_info": {
      "name": "python"
    }
  },
  "cells": [
    {
      "cell_type": "markdown",
      "metadata": {
        "id": "view-in-github",
        "colab_type": "text"
      },
      "source": [
        "<a href=\"https://colab.research.google.com/github/jaison-1920/pytorch_practice/blob/main/pytorch_1.ipynb\" target=\"_parent\"><img src=\"https://colab.research.google.com/assets/colab-badge.svg\" alt=\"Open In Colab\"/></a>"
      ]
    },
    {
      "cell_type": "code",
      "execution_count": 1,
      "metadata": {
        "colab": {
          "base_uri": "https://localhost:8080/"
        },
        "id": "uJmWsWzgAeTy",
        "outputId": "f2321787-e325-4ba4-9fa0-152211351110"
      },
      "outputs": [
        {
          "output_type": "stream",
          "name": "stdout",
          "text": [
            "hello world\n"
          ]
        }
      ],
      "source": [
        "print(\"hello world\")"
      ]
    },
    {
      "cell_type": "code",
      "source": [
        "print(\"pytorch practice\")"
      ],
      "metadata": {
        "id": "v-EuHOVoA2Yw",
        "outputId": "578af742-0998-4919-e767-8445aee7fce9",
        "colab": {
          "base_uri": "https://localhost:8080/"
        }
      },
      "execution_count": 2,
      "outputs": [
        {
          "output_type": "stream",
          "name": "stdout",
          "text": [
            "pytorch practice\n"
          ]
        }
      ]
    },
    {
      "cell_type": "code",
      "source": [
        "import numpy as np\n",
        "import torch\n"
      ],
      "metadata": {
        "id": "g96JZuvVCRXk"
      },
      "execution_count": 3,
      "outputs": []
    },
    {
      "cell_type": "markdown",
      "source": [
        "Tensors:\n",
        "* Multidimensional arrays: Similar to NumPy arrays, tensors are multidimensional arrays used for numerical computations.\n",
        "* Built on NumPy\n",
        "* Hardware acceleration: Tensors can leverage hardware acceleration from GPUs for faster computations in deep learning models."
      ],
      "metadata": {
        "id": "iLvcETv6RVNW"
      }
    },
    {
      "cell_type": "code",
      "source": [
        "np_1 = np.arange(10)\n",
        "np_1"
      ],
      "metadata": {
        "id": "4aXI-I4URR2H",
        "outputId": "6e8c0e6f-ebaf-4b1a-8d6b-427f52d9cc32",
        "colab": {
          "base_uri": "https://localhost:8080/"
        }
      },
      "execution_count": 4,
      "outputs": [
        {
          "output_type": "execute_result",
          "data": {
            "text/plain": [
              "array([0, 1, 2, 3, 4, 5, 6, 7, 8, 9])"
            ]
          },
          "metadata": {},
          "execution_count": 4
        }
      ]
    },
    {
      "cell_type": "code",
      "source": [
        "np_1 = np_1.reshape(2,-1)\n",
        "np_1"
      ],
      "metadata": {
        "id": "_4QcskLnR4-x",
        "outputId": "13c86e70-32df-48ed-ec9c-274ab30319ac",
        "colab": {
          "base_uri": "https://localhost:8080/"
        }
      },
      "execution_count": 5,
      "outputs": [
        {
          "output_type": "execute_result",
          "data": {
            "text/plain": [
              "array([[0, 1, 2, 3, 4],\n",
              "       [5, 6, 7, 8, 9]])"
            ]
          },
          "metadata": {},
          "execution_count": 5
        }
      ]
    },
    {
      "cell_type": "code",
      "source": [
        "np_1.dtype"
      ],
      "metadata": {
        "id": "cHyaqz2LR9LP",
        "outputId": "cc95ed76-3155-4c06-b571-52797cabd5e5",
        "colab": {
          "base_uri": "https://localhost:8080/"
        }
      },
      "execution_count": 6,
      "outputs": [
        {
          "output_type": "execute_result",
          "data": {
            "text/plain": [
              "dtype('int64')"
            ]
          },
          "metadata": {},
          "execution_count": 6
        }
      ]
    },
    {
      "cell_type": "code",
      "source": [
        "np_1[0][1] = 22\n",
        "np_1"
      ],
      "metadata": {
        "id": "X4mYBuMOSdeb",
        "outputId": "9407e4d7-b8b4-4289-eb86-155c9c66db62",
        "colab": {
          "base_uri": "https://localhost:8080/"
        }
      },
      "execution_count": 7,
      "outputs": [
        {
          "output_type": "execute_result",
          "data": {
            "text/plain": [
              "array([[ 0, 22,  2,  3,  4],\n",
              "       [ 5,  6,  7,  8,  9]])"
            ]
          },
          "metadata": {},
          "execution_count": 7
        }
      ]
    },
    {
      "cell_type": "code",
      "source": [
        "tensor = torch.rand(10)\n",
        "tensor"
      ],
      "metadata": {
        "id": "RE80TN7rSGNf",
        "outputId": "e993f0ca-a69b-4d27-fa65-d246f071f9eb",
        "colab": {
          "base_uri": "https://localhost:8080/"
        }
      },
      "execution_count": 8,
      "outputs": [
        {
          "output_type": "execute_result",
          "data": {
            "text/plain": [
              "tensor([0.0311, 0.8223, 0.4253, 0.5622, 0.4792, 0.2519, 0.8482, 0.0391, 0.8013,\n",
              "        0.0994])"
            ]
          },
          "metadata": {},
          "execution_count": 8
        }
      ]
    },
    {
      "cell_type": "code",
      "source": [
        "tensor = tensor.reshape(5,-1)\n",
        "tensor"
      ],
      "metadata": {
        "id": "qEN66p3BSL_n",
        "outputId": "bc8c4a7d-c0f2-492c-a759-9c2ec4235625",
        "colab": {
          "base_uri": "https://localhost:8080/"
        }
      },
      "execution_count": 9,
      "outputs": [
        {
          "output_type": "execute_result",
          "data": {
            "text/plain": [
              "tensor([[0.0311, 0.8223],\n",
              "        [0.4253, 0.5622],\n",
              "        [0.4792, 0.2519],\n",
              "        [0.8482, 0.0391],\n",
              "        [0.8013, 0.0994]])"
            ]
          },
          "metadata": {},
          "execution_count": 9
        }
      ]
    },
    {
      "cell_type": "code",
      "source": [
        "tensor.dtype"
      ],
      "metadata": {
        "id": "6VtZbRMzSWbP",
        "outputId": "db710b13-cbbd-492a-fd31-7892711ec527",
        "colab": {
          "base_uri": "https://localhost:8080/"
        }
      },
      "execution_count": 10,
      "outputs": [
        {
          "output_type": "execute_result",
          "data": {
            "text/plain": [
              "torch.float32"
            ]
          },
          "metadata": {},
          "execution_count": 10
        }
      ]
    },
    {
      "cell_type": "code",
      "source": [
        "tensor[0][1] = 2\n",
        "tensor"
      ],
      "metadata": {
        "id": "v6Xj0uo5SZH3",
        "outputId": "f969ec1f-8b3c-490a-b804-7d289ba977c2",
        "colab": {
          "base_uri": "https://localhost:8080/"
        }
      },
      "execution_count": 11,
      "outputs": [
        {
          "output_type": "execute_result",
          "data": {
            "text/plain": [
              "tensor([[0.0311, 2.0000],\n",
              "        [0.4253, 0.5622],\n",
              "        [0.4792, 0.2519],\n",
              "        [0.8482, 0.0391],\n",
              "        [0.8013, 0.0994]])"
            ]
          },
          "metadata": {},
          "execution_count": 11
        }
      ]
    },
    {
      "cell_type": "code",
      "source": [
        "tensor_1 = torch.rand(10)\n",
        "tensor_1"
      ],
      "metadata": {
        "id": "pTc3ir1RSv6I",
        "outputId": "ee17e923-e2c7-4f50-de04-b8d7c7679cc4",
        "colab": {
          "base_uri": "https://localhost:8080/"
        }
      },
      "execution_count": 12,
      "outputs": [
        {
          "output_type": "execute_result",
          "data": {
            "text/plain": [
              "tensor([0.4995, 0.5645, 0.3515, 0.6037, 0.0067, 0.3068, 0.6684, 0.1391, 0.8598,\n",
              "        0.8516])"
            ]
          },
          "metadata": {},
          "execution_count": 12
        }
      ]
    },
    {
      "cell_type": "code",
      "source": [
        "tensor_1[1]=2\n",
        "tensor_1"
      ],
      "metadata": {
        "id": "CGltJiLRTz0A",
        "outputId": "98f63a1b-a780-4f8e-cc3b-562534034977",
        "colab": {
          "base_uri": "https://localhost:8080/"
        }
      },
      "execution_count": 13,
      "outputs": [
        {
          "output_type": "execute_result",
          "data": {
            "text/plain": [
              "tensor([0.4995, 2.0000, 0.3515, 0.6037, 0.0067, 0.3068, 0.6684, 0.1391, 0.8598,\n",
              "        0.8516])"
            ]
          },
          "metadata": {},
          "execution_count": 13
        }
      ]
    },
    {
      "cell_type": "code",
      "source": [],
      "metadata": {
        "id": "aNYV83cuT46X"
      },
      "execution_count": 13,
      "outputs": []
    }
  ]
}