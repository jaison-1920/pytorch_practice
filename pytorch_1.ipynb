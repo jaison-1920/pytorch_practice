{
  "nbformat": 4,
  "nbformat_minor": 0,
  "metadata": {
    "colab": {
      "provenance": [],
      "authorship_tag": "ABX9TyNaxhlVTm3lUJD2HfRRrzg4",
      "include_colab_link": true
    },
    "kernelspec": {
      "name": "python3",
      "display_name": "Python 3"
    },
    "language_info": {
      "name": "python"
    }
  },
  "cells": [
    {
      "cell_type": "markdown",
      "metadata": {
        "id": "view-in-github",
        "colab_type": "text"
      },
      "source": [
        "<a href=\"https://colab.research.google.com/github/jaison-1920/pytorch_practice/blob/main/pytorch_1.ipynb\" target=\"_parent\"><img src=\"https://colab.research.google.com/assets/colab-badge.svg\" alt=\"Open In Colab\"/></a>"
      ]
    },
    {
      "cell_type": "code",
      "execution_count": 65,
      "metadata": {
        "colab": {
          "base_uri": "https://localhost:8080/"
        },
        "id": "uJmWsWzgAeTy",
        "outputId": "35d0253c-86ab-4a5c-d1dd-4ae47001f05a"
      },
      "outputs": [
        {
          "output_type": "stream",
          "name": "stdout",
          "text": [
            "hello world\n"
          ]
        }
      ],
      "source": [
        "print(\"hello world\")"
      ]
    },
    {
      "cell_type": "code",
      "source": [
        "print(\"pytorch practice\")"
      ],
      "metadata": {
        "id": "v-EuHOVoA2Yw",
        "outputId": "3adad371-3958-4ed6-af21-d112b2818911",
        "colab": {
          "base_uri": "https://localhost:8080/"
        }
      },
      "execution_count": 66,
      "outputs": [
        {
          "output_type": "stream",
          "name": "stdout",
          "text": [
            "pytorch practice\n"
          ]
        }
      ]
    },
    {
      "cell_type": "code",
      "source": [
        "import numpy as np\n",
        "import torch\n"
      ],
      "metadata": {
        "id": "g96JZuvVCRXk"
      },
      "execution_count": 67,
      "outputs": []
    },
    {
      "cell_type": "markdown",
      "source": [
        "Tensors:\n",
        "* Multidimensional arrays: Similar to NumPy arrays, tensors are multidimensional arrays used for numerical computations.\n",
        "* Built on NumPy\n",
        "* Hardware acceleration: Tensors can leverage hardware acceleration from GPUs for faster computations in deep learning models."
      ],
      "metadata": {
        "id": "iLvcETv6RVNW"
      }
    },
    {
      "cell_type": "code",
      "source": [
        "np_1 = np.arange(10)\n",
        "np_1"
      ],
      "metadata": {
        "id": "4aXI-I4URR2H",
        "outputId": "8517d3da-37ec-41ce-9bc3-a433d922214c",
        "colab": {
          "base_uri": "https://localhost:8080/"
        }
      },
      "execution_count": 68,
      "outputs": [
        {
          "output_type": "execute_result",
          "data": {
            "text/plain": [
              "array([0, 1, 2, 3, 4, 5, 6, 7, 8, 9])"
            ]
          },
          "metadata": {},
          "execution_count": 68
        }
      ]
    },
    {
      "cell_type": "code",
      "source": [
        "np_1 = np_1.reshape(2,-1)\n",
        "np_1"
      ],
      "metadata": {
        "id": "_4QcskLnR4-x",
        "outputId": "384d3d68-6770-42c3-9026-1063aff60e0b",
        "colab": {
          "base_uri": "https://localhost:8080/"
        }
      },
      "execution_count": 69,
      "outputs": [
        {
          "output_type": "execute_result",
          "data": {
            "text/plain": [
              "array([[0, 1, 2, 3, 4],\n",
              "       [5, 6, 7, 8, 9]])"
            ]
          },
          "metadata": {},
          "execution_count": 69
        }
      ]
    },
    {
      "cell_type": "code",
      "source": [
        "np_1.dtype"
      ],
      "metadata": {
        "id": "cHyaqz2LR9LP",
        "outputId": "bad9c37b-6ff4-4532-a8b8-054e0a88fc8d",
        "colab": {
          "base_uri": "https://localhost:8080/"
        }
      },
      "execution_count": 70,
      "outputs": [
        {
          "output_type": "execute_result",
          "data": {
            "text/plain": [
              "dtype('int64')"
            ]
          },
          "metadata": {},
          "execution_count": 70
        }
      ]
    },
    {
      "cell_type": "code",
      "source": [
        "np_1[0][1] = 22\n",
        "np_1"
      ],
      "metadata": {
        "id": "X4mYBuMOSdeb",
        "outputId": "05592f0e-eb96-4e64-9d42-3619d4e95061",
        "colab": {
          "base_uri": "https://localhost:8080/"
        }
      },
      "execution_count": 71,
      "outputs": [
        {
          "output_type": "execute_result",
          "data": {
            "text/plain": [
              "array([[ 0, 22,  2,  3,  4],\n",
              "       [ 5,  6,  7,  8,  9]])"
            ]
          },
          "metadata": {},
          "execution_count": 71
        }
      ]
    },
    {
      "cell_type": "code",
      "source": [
        "tensor = torch.rand(10)\n",
        "tensor"
      ],
      "metadata": {
        "id": "RE80TN7rSGNf",
        "outputId": "d57ef090-91ad-4eab-bf10-89144fcc74df",
        "colab": {
          "base_uri": "https://localhost:8080/"
        }
      },
      "execution_count": 72,
      "outputs": [
        {
          "output_type": "execute_result",
          "data": {
            "text/plain": [
              "tensor([0.4076, 0.7695, 0.5315, 0.6530, 0.2050, 0.1605, 0.5697, 0.9402, 0.2600,\n",
              "        0.7440])"
            ]
          },
          "metadata": {},
          "execution_count": 72
        }
      ]
    },
    {
      "cell_type": "code",
      "source": [
        "tensor = tensor.reshape(5,-1)\n",
        "tensor"
      ],
      "metadata": {
        "id": "qEN66p3BSL_n",
        "outputId": "76872a09-73f1-4315-8eb9-fe9fb61550fe",
        "colab": {
          "base_uri": "https://localhost:8080/"
        }
      },
      "execution_count": 73,
      "outputs": [
        {
          "output_type": "execute_result",
          "data": {
            "text/plain": [
              "tensor([[0.4076, 0.7695],\n",
              "        [0.5315, 0.6530],\n",
              "        [0.2050, 0.1605],\n",
              "        [0.5697, 0.9402],\n",
              "        [0.2600, 0.7440]])"
            ]
          },
          "metadata": {},
          "execution_count": 73
        }
      ]
    },
    {
      "cell_type": "code",
      "source": [
        "tensor.dtype"
      ],
      "metadata": {
        "id": "6VtZbRMzSWbP",
        "outputId": "279dfb4a-f849-4a57-ddd1-7d2f469d043a",
        "colab": {
          "base_uri": "https://localhost:8080/"
        }
      },
      "execution_count": 74,
      "outputs": [
        {
          "output_type": "execute_result",
          "data": {
            "text/plain": [
              "torch.float32"
            ]
          },
          "metadata": {},
          "execution_count": 74
        }
      ]
    },
    {
      "cell_type": "code",
      "source": [
        "tensor[0][1] = 2\n",
        "tensor"
      ],
      "metadata": {
        "id": "v6Xj0uo5SZH3",
        "outputId": "9d272ef7-9787-4af8-bb97-8b41e2dc8410",
        "colab": {
          "base_uri": "https://localhost:8080/"
        }
      },
      "execution_count": 75,
      "outputs": [
        {
          "output_type": "execute_result",
          "data": {
            "text/plain": [
              "tensor([[0.4076, 2.0000],\n",
              "        [0.5315, 0.6530],\n",
              "        [0.2050, 0.1605],\n",
              "        [0.5697, 0.9402],\n",
              "        [0.2600, 0.7440]])"
            ]
          },
          "metadata": {},
          "execution_count": 75
        }
      ]
    },
    {
      "cell_type": "code",
      "source": [
        "tensor_1 = torch.rand(10)\n",
        "tensor_1"
      ],
      "metadata": {
        "id": "pTc3ir1RSv6I",
        "outputId": "5a95faf2-8b75-426a-9828-588eee08d949",
        "colab": {
          "base_uri": "https://localhost:8080/"
        }
      },
      "execution_count": 76,
      "outputs": [
        {
          "output_type": "execute_result",
          "data": {
            "text/plain": [
              "tensor([0.0526, 0.2979, 0.9131, 0.7385, 0.4391, 0.1341, 0.5907, 0.7973, 0.6357,\n",
              "        0.6514])"
            ]
          },
          "metadata": {},
          "execution_count": 76
        }
      ]
    },
    {
      "cell_type": "code",
      "source": [
        "tensor_1[1]=2\n",
        "tensor_1"
      ],
      "metadata": {
        "id": "CGltJiLRTz0A",
        "outputId": "5988d51d-62c4-4ac3-a4e7-4ceb444534aa",
        "colab": {
          "base_uri": "https://localhost:8080/"
        }
      },
      "execution_count": 77,
      "outputs": [
        {
          "output_type": "execute_result",
          "data": {
            "text/plain": [
              "tensor([0.0526, 2.0000, 0.9131, 0.7385, 0.4391, 0.1341, 0.5907, 0.7973, 0.6357,\n",
              "        0.6514])"
            ]
          },
          "metadata": {},
          "execution_count": 77
        }
      ]
    },
    {
      "cell_type": "markdown",
      "source": [
        "Maths in tensors\n",
        "* addition, subtraction, multiplication, division\n",
        "* remainder,exponent\n",
        "* Reassignment\n",
        "\n"
      ],
      "metadata": {
        "id": "Egn9z4b5-5f7"
      }
    },
    {
      "cell_type": "code",
      "source": [
        "tensor_a = torch.tensor([1,2,3,4])\n",
        "tensor_b = torch.tensor((5,6,7,8))"
      ],
      "metadata": {
        "id": "aNYV83cuT46X"
      },
      "execution_count": 78,
      "outputs": []
    },
    {
      "cell_type": "code",
      "source": [
        "# Addition\n",
        "print(tensor_a + tensor_b)\n",
        "print(torch.add(tensor_a,tensor_b))\n",
        "print(tensor_a.add(tensor_b))"
      ],
      "metadata": {
        "id": "Kn-gSTIICjfm",
        "outputId": "3a615d46-a36b-4d89-f31d-c0c735a49d56",
        "colab": {
          "base_uri": "https://localhost:8080/"
        }
      },
      "execution_count": 79,
      "outputs": [
        {
          "output_type": "stream",
          "name": "stdout",
          "text": [
            "tensor([ 6,  8, 10, 12])\n",
            "tensor([ 6,  8, 10, 12])\n",
            "tensor([ 6,  8, 10, 12])\n"
          ]
        }
      ]
    },
    {
      "cell_type": "code",
      "source": [
        "# Subtraction\n",
        "print(tensor_b - tensor_a)\n",
        "print(torch.sub(tensor_b,tensor_a))\n",
        "print(tensor_b.sub(tensor_a))"
      ],
      "metadata": {
        "id": "XRVKzDaECvjS",
        "outputId": "2ea74d93-9ec1-49f8-a756-c132668eec7d",
        "colab": {
          "base_uri": "https://localhost:8080/"
        }
      },
      "execution_count": 80,
      "outputs": [
        {
          "output_type": "stream",
          "name": "stdout",
          "text": [
            "tensor([4, 4, 4, 4])\n",
            "tensor([4, 4, 4, 4])\n",
            "tensor([4, 4, 4, 4])\n"
          ]
        }
      ]
    },
    {
      "cell_type": "code",
      "source": [
        "# multiplication\n",
        "print(tensor_a*tensor_b)\n",
        "print(torch.mul(tensor_a,tensor_b))\n",
        "print(torch.multiply(tensor_a,tensor_b))\n",
        "print(tensor_a.mul(tensor_b))"
      ],
      "metadata": {
        "id": "MzxpMChBDFLJ",
        "outputId": "4d2bc983-f503-4a62-9e59-5909bbc8d548",
        "colab": {
          "base_uri": "https://localhost:8080/"
        }
      },
      "execution_count": 81,
      "outputs": [
        {
          "output_type": "stream",
          "name": "stdout",
          "text": [
            "tensor([ 5, 12, 21, 32])\n",
            "tensor([ 5, 12, 21, 32])\n",
            "tensor([ 5, 12, 21, 32])\n",
            "tensor([ 5, 12, 21, 32])\n"
          ]
        }
      ]
    },
    {
      "cell_type": "code",
      "source": [
        "#Division\n",
        "print(tensor_b/tensor_a)\n",
        "print(torch.div(tensor_b,tensor_a))\n",
        "print(tensor_b.div(tensor_a))"
      ],
      "metadata": {
        "id": "tW_zcfcZDOxb",
        "outputId": "67ba3795-04eb-4978-ef0d-a9a19eedb1a0",
        "colab": {
          "base_uri": "https://localhost:8080/"
        }
      },
      "execution_count": 82,
      "outputs": [
        {
          "output_type": "stream",
          "name": "stdout",
          "text": [
            "tensor([5.0000, 3.0000, 2.3333, 2.0000])\n",
            "tensor([5.0000, 3.0000, 2.3333, 2.0000])\n",
            "tensor([5.0000, 3.0000, 2.3333, 2.0000])\n"
          ]
        }
      ]
    },
    {
      "cell_type": "code",
      "source": [
        "#remainder\n",
        "print(tensor_b%tensor_a)\n",
        "print(torch.remainder(tensor_b,tensor_a))\n",
        "print(tensor_b.remainder(tensor_a))"
      ],
      "metadata": {
        "id": "XVa-J3YuDvp6",
        "outputId": "bf92df1f-887b-4da0-f32c-a3e4c0938f81",
        "colab": {
          "base_uri": "https://localhost:8080/"
        }
      },
      "execution_count": 83,
      "outputs": [
        {
          "output_type": "stream",
          "name": "stdout",
          "text": [
            "tensor([0, 0, 1, 0])\n",
            "tensor([0, 0, 1, 0])\n",
            "tensor([0, 0, 1, 0])\n"
          ]
        }
      ]
    },
    {
      "cell_type": "code",
      "source": [
        "#Exponents / power\n",
        "print(torch.pow(tensor_a,tensor_b))\n",
        "print(tensor_a.pow(tensor_b))"
      ],
      "metadata": {
        "id": "KyU057dNEHGT",
        "outputId": "a8a7ea22-36db-47fb-b3ec-8bec9c582775",
        "colab": {
          "base_uri": "https://localhost:8080/"
        }
      },
      "execution_count": 84,
      "outputs": [
        {
          "output_type": "stream",
          "name": "stdout",
          "text": [
            "tensor([    1,    64,  2187, 65536])\n",
            "tensor([    1,    64,  2187, 65536])\n"
          ]
        }
      ]
    },
    {
      "cell_type": "code",
      "source": [
        "# reassignment\n",
        "tensor_a = tensor_a+tensor_b\n",
        "print(tensor_a)"
      ],
      "metadata": {
        "id": "PSCk04rDExDc",
        "outputId": "31526fc0-6ee7-49c5-fd26-a73cdc9203a0",
        "colab": {
          "base_uri": "https://localhost:8080/"
        }
      },
      "execution_count": 85,
      "outputs": [
        {
          "output_type": "stream",
          "name": "stdout",
          "text": [
            "tensor([ 6,  8, 10, 12])\n"
          ]
        }
      ]
    },
    {
      "cell_type": "code",
      "source": [
        "# Reassignment using add_ function\n",
        "tensor_a = torch.tensor([1,2,3,4])\n",
        "tensor_b = torch.tensor((5,6,7,8))\n",
        "tensor_a.add_(tensor_b)\n",
        "print(tensor_a)"
      ],
      "metadata": {
        "id": "F4DM-yp0F9UB",
        "outputId": "6d3b0c30-94ac-4fe2-de2c-86b6c6788908",
        "colab": {
          "base_uri": "https://localhost:8080/"
        }
      },
      "execution_count": 86,
      "outputs": [
        {
          "output_type": "stream",
          "name": "stdout",
          "text": [
            "tensor([ 6,  8, 10, 12])\n"
          ]
        }
      ]
    },
    {
      "cell_type": "code",
      "source": [],
      "metadata": {
        "id": "BroZUFM_G2q9"
      },
      "execution_count": 86,
      "outputs": []
    }
  ]
}