{
  "nbformat": 4,
  "nbformat_minor": 0,
  "metadata": {
    "colab": {
      "provenance": [],
      "authorship_tag": "ABX9TyPNiJ8kD5/BVIWUJh7e6ppx",
      "include_colab_link": true
    },
    "kernelspec": {
      "name": "python3",
      "display_name": "Python 3"
    },
    "language_info": {
      "name": "python"
    }
  },
  "cells": [
    {
      "cell_type": "markdown",
      "metadata": {
        "id": "view-in-github",
        "colab_type": "text"
      },
      "source": [
        "<a href=\"https://colab.research.google.com/github/jaison-1920/pytorch_practice/blob/main/pytorch_2.ipynb\" target=\"_parent\"><img src=\"https://colab.research.google.com/assets/colab-badge.svg\" alt=\"Open In Colab\"/></a>"
      ]
    },
    {
      "cell_type": "markdown",
      "source": [
        "# Implementing Neural Network"
      ],
      "metadata": {
        "id": "1-JXdeNnYNO5"
      }
    },
    {
      "cell_type": "code",
      "execution_count": 4,
      "metadata": {
        "id": "_g2O-V7kYG54"
      },
      "outputs": [],
      "source": [
        "import torch\n",
        "import torch.nn as nn\n",
        "import torch.nn.functional as F"
      ]
    },
    {
      "cell_type": "markdown",
      "source": [
        "This Notebook is to:\n",
        "* Import Iris Dataset\n",
        "* Setup a neural network using pytorch\n",
        "* predict the model"
      ],
      "metadata": {
        "id": "3Q-UtUwKZCxl"
      }
    },
    {
      "cell_type": "code",
      "source": [
        "#Create a model class which inherits the nn.module\n",
        "class Model(nn.Module):\n",
        "  # Input layer = 4-->\n",
        "  # Hidden layer (H1)8-->\n",
        "  # Hidden layer (H2)9-->\n",
        "  # Output layer: 3\n",
        "  def __init__(self,in_features=4,h1=8,h2=9,output=3):\n",
        "    super().__init__() #instance for nn.Module\n",
        "    self.fc1 = nn.Linear(in_features,h1)\n",
        "    self.fc2 = nn.Linear(h1,h2)\n",
        "    self.out = nn.Linear(h2,output)\n",
        "\n",
        "  def forward(self,x):\n",
        "    x = F.relu(self.fc1(x))\n",
        "    x = F.relu(self.fc2(x))\n",
        "    x = F.relu(self.fc3(x))\n",
        "    x = self.out(x)\n",
        "\n",
        "    return x\n"
      ],
      "metadata": {
        "id": "rVgR4NtTY5AB"
      },
      "execution_count": 7,
      "outputs": []
    },
    {
      "cell_type": "code",
      "source": [
        "#pick a manual seed for randomization\n",
        "torch.manual_seed(41)\n",
        "# call the Model class\n",
        "model = Model()"
      ],
      "metadata": {
        "id": "sueemyoidZPV"
      },
      "execution_count": 8,
      "outputs": []
    },
    {
      "cell_type": "code",
      "source": [],
      "metadata": {
        "id": "0rvoVpOwdy87"
      },
      "execution_count": null,
      "outputs": []
    }
  ]
}