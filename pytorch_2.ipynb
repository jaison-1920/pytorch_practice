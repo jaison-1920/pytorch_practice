{
  "nbformat": 4,
  "nbformat_minor": 0,
  "metadata": {
    "colab": {
      "provenance": [],
      "authorship_tag": "ABX9TyORSAZbNVC/CilzAXv78CZ3",
      "include_colab_link": true
    },
    "kernelspec": {
      "name": "python3",
      "display_name": "Python 3"
    },
    "language_info": {
      "name": "python"
    }
  },
  "cells": [
    {
      "cell_type": "markdown",
      "metadata": {
        "id": "view-in-github",
        "colab_type": "text"
      },
      "source": [
        "<a href=\"https://colab.research.google.com/github/jaison-1920/pytorch_practice/blob/main/pytorch_2.ipynb\" target=\"_parent\"><img src=\"https://colab.research.google.com/assets/colab-badge.svg\" alt=\"Open In Colab\"/></a>"
      ]
    },
    {
      "cell_type": "markdown",
      "source": [
        "# Implementing Neural Network"
      ],
      "metadata": {
        "id": "1-JXdeNnYNO5"
      }
    },
    {
      "cell_type": "code",
      "execution_count": 26,
      "metadata": {
        "id": "_g2O-V7kYG54"
      },
      "outputs": [],
      "source": [
        "import torch\n",
        "import torch.nn as nn\n",
        "import torch.nn.functional as F"
      ]
    },
    {
      "cell_type": "markdown",
      "source": [
        "This Notebook is to:\n",
        "* Import Iris Dataset\n",
        "* Setup a neural network using pytorch\n",
        "* predict the model"
      ],
      "metadata": {
        "id": "3Q-UtUwKZCxl"
      }
    },
    {
      "cell_type": "code",
      "source": [
        "#Create a model class which inherits the nn.module\n",
        "class Model(nn.Module):\n",
        "  # Input layer = 4-->\n",
        "  # Hidden layer (H1)8-->\n",
        "  # Hidden layer (H2)9-->\n",
        "  # Output layer: 3\n",
        "  def __init__(self,in_features=4,h1=8,h2=9,output=3):\n",
        "    super().__init__() #instance for nn.Module\n",
        "    self.fc1 = nn.Linear(in_features,h1)\n",
        "    self.fc2 = nn.Linear(h1,h2)\n",
        "    self.out = nn.Linear(h2,output)\n",
        "\n",
        "  def forward(self,x):\n",
        "    x = F.relu(self.fc1(x))\n",
        "    x = F.relu(self.fc2(x))\n",
        "    x = self.out(x)\n",
        "\n",
        "    return x\n"
      ],
      "metadata": {
        "id": "rVgR4NtTY5AB"
      },
      "execution_count": 27,
      "outputs": []
    },
    {
      "cell_type": "code",
      "source": [
        "#pick a manual seed for randomization\n",
        "torch.manual_seed(41)\n",
        "# call the Model class\n",
        "model = Model()"
      ],
      "metadata": {
        "id": "sueemyoidZPV"
      },
      "execution_count": 28,
      "outputs": []
    },
    {
      "cell_type": "markdown",
      "source": [
        "# Load the data and train the model"
      ],
      "metadata": {
        "id": "ry2fUwmG248C"
      }
    },
    {
      "cell_type": "code",
      "source": [
        "import pandas as pd\n",
        "import matplotlib.pyplot as plt\n"
      ],
      "metadata": {
        "id": "3KFx8_ugA_vM"
      },
      "execution_count": 29,
      "outputs": []
    },
    {
      "cell_type": "code",
      "source": [
        "url = 'https://gist.githubusercontent.com/netj/8836201/raw/6f9306ad21398ea43cba4f7d537619d0e07d5ae3/iris.csv'\n",
        "iris_df = pd.read_csv(url)\n",
        "iris_df.tail()"
      ],
      "metadata": {
        "colab": {
          "base_uri": "https://localhost:8080/",
          "height": 206
        },
        "id": "0rvoVpOwdy87",
        "outputId": "afc32fdd-aaf6-4390-9f54-925fcabdf3ef"
      },
      "execution_count": 30,
      "outputs": [
        {
          "output_type": "execute_result",
          "data": {
            "text/plain": [
              "     sepal.length  sepal.width  petal.length  petal.width    variety\n",
              "145           6.7          3.0           5.2          2.3  Virginica\n",
              "146           6.3          2.5           5.0          1.9  Virginica\n",
              "147           6.5          3.0           5.2          2.0  Virginica\n",
              "148           6.2          3.4           5.4          2.3  Virginica\n",
              "149           5.9          3.0           5.1          1.8  Virginica"
            ],
            "text/html": [
              "\n",
              "  <div id=\"df-9532448d-d336-4dd7-8cf7-1f180895ec1e\" class=\"colab-df-container\">\n",
              "    <div>\n",
              "<style scoped>\n",
              "    .dataframe tbody tr th:only-of-type {\n",
              "        vertical-align: middle;\n",
              "    }\n",
              "\n",
              "    .dataframe tbody tr th {\n",
              "        vertical-align: top;\n",
              "    }\n",
              "\n",
              "    .dataframe thead th {\n",
              "        text-align: right;\n",
              "    }\n",
              "</style>\n",
              "<table border=\"1\" class=\"dataframe\">\n",
              "  <thead>\n",
              "    <tr style=\"text-align: right;\">\n",
              "      <th></th>\n",
              "      <th>sepal.length</th>\n",
              "      <th>sepal.width</th>\n",
              "      <th>petal.length</th>\n",
              "      <th>petal.width</th>\n",
              "      <th>variety</th>\n",
              "    </tr>\n",
              "  </thead>\n",
              "  <tbody>\n",
              "    <tr>\n",
              "      <th>145</th>\n",
              "      <td>6.7</td>\n",
              "      <td>3.0</td>\n",
              "      <td>5.2</td>\n",
              "      <td>2.3</td>\n",
              "      <td>Virginica</td>\n",
              "    </tr>\n",
              "    <tr>\n",
              "      <th>146</th>\n",
              "      <td>6.3</td>\n",
              "      <td>2.5</td>\n",
              "      <td>5.0</td>\n",
              "      <td>1.9</td>\n",
              "      <td>Virginica</td>\n",
              "    </tr>\n",
              "    <tr>\n",
              "      <th>147</th>\n",
              "      <td>6.5</td>\n",
              "      <td>3.0</td>\n",
              "      <td>5.2</td>\n",
              "      <td>2.0</td>\n",
              "      <td>Virginica</td>\n",
              "    </tr>\n",
              "    <tr>\n",
              "      <th>148</th>\n",
              "      <td>6.2</td>\n",
              "      <td>3.4</td>\n",
              "      <td>5.4</td>\n",
              "      <td>2.3</td>\n",
              "      <td>Virginica</td>\n",
              "    </tr>\n",
              "    <tr>\n",
              "      <th>149</th>\n",
              "      <td>5.9</td>\n",
              "      <td>3.0</td>\n",
              "      <td>5.1</td>\n",
              "      <td>1.8</td>\n",
              "      <td>Virginica</td>\n",
              "    </tr>\n",
              "  </tbody>\n",
              "</table>\n",
              "</div>\n",
              "    <div class=\"colab-df-buttons\">\n",
              "\n",
              "  <div class=\"colab-df-container\">\n",
              "    <button class=\"colab-df-convert\" onclick=\"convertToInteractive('df-9532448d-d336-4dd7-8cf7-1f180895ec1e')\"\n",
              "            title=\"Convert this dataframe to an interactive table.\"\n",
              "            style=\"display:none;\">\n",
              "\n",
              "  <svg xmlns=\"http://www.w3.org/2000/svg\" height=\"24px\" viewBox=\"0 -960 960 960\">\n",
              "    <path d=\"M120-120v-720h720v720H120Zm60-500h600v-160H180v160Zm220 220h160v-160H400v160Zm0 220h160v-160H400v160ZM180-400h160v-160H180v160Zm440 0h160v-160H620v160ZM180-180h160v-160H180v160Zm440 0h160v-160H620v160Z\"/>\n",
              "  </svg>\n",
              "    </button>\n",
              "\n",
              "  <style>\n",
              "    .colab-df-container {\n",
              "      display:flex;\n",
              "      gap: 12px;\n",
              "    }\n",
              "\n",
              "    .colab-df-convert {\n",
              "      background-color: #E8F0FE;\n",
              "      border: none;\n",
              "      border-radius: 50%;\n",
              "      cursor: pointer;\n",
              "      display: none;\n",
              "      fill: #1967D2;\n",
              "      height: 32px;\n",
              "      padding: 0 0 0 0;\n",
              "      width: 32px;\n",
              "    }\n",
              "\n",
              "    .colab-df-convert:hover {\n",
              "      background-color: #E2EBFA;\n",
              "      box-shadow: 0px 1px 2px rgba(60, 64, 67, 0.3), 0px 1px 3px 1px rgba(60, 64, 67, 0.15);\n",
              "      fill: #174EA6;\n",
              "    }\n",
              "\n",
              "    .colab-df-buttons div {\n",
              "      margin-bottom: 4px;\n",
              "    }\n",
              "\n",
              "    [theme=dark] .colab-df-convert {\n",
              "      background-color: #3B4455;\n",
              "      fill: #D2E3FC;\n",
              "    }\n",
              "\n",
              "    [theme=dark] .colab-df-convert:hover {\n",
              "      background-color: #434B5C;\n",
              "      box-shadow: 0px 1px 3px 1px rgba(0, 0, 0, 0.15);\n",
              "      filter: drop-shadow(0px 1px 2px rgba(0, 0, 0, 0.3));\n",
              "      fill: #FFFFFF;\n",
              "    }\n",
              "  </style>\n",
              "\n",
              "    <script>\n",
              "      const buttonEl =\n",
              "        document.querySelector('#df-9532448d-d336-4dd7-8cf7-1f180895ec1e button.colab-df-convert');\n",
              "      buttonEl.style.display =\n",
              "        google.colab.kernel.accessAllowed ? 'block' : 'none';\n",
              "\n",
              "      async function convertToInteractive(key) {\n",
              "        const element = document.querySelector('#df-9532448d-d336-4dd7-8cf7-1f180895ec1e');\n",
              "        const dataTable =\n",
              "          await google.colab.kernel.invokeFunction('convertToInteractive',\n",
              "                                                    [key], {});\n",
              "        if (!dataTable) return;\n",
              "\n",
              "        const docLinkHtml = 'Like what you see? Visit the ' +\n",
              "          '<a target=\"_blank\" href=https://colab.research.google.com/notebooks/data_table.ipynb>data table notebook</a>'\n",
              "          + ' to learn more about interactive tables.';\n",
              "        element.innerHTML = '';\n",
              "        dataTable['output_type'] = 'display_data';\n",
              "        await google.colab.output.renderOutput(dataTable, element);\n",
              "        const docLink = document.createElement('div');\n",
              "        docLink.innerHTML = docLinkHtml;\n",
              "        element.appendChild(docLink);\n",
              "      }\n",
              "    </script>\n",
              "  </div>\n",
              "\n",
              "\n",
              "<div id=\"df-2e0c8c23-cd7b-4429-9b08-9cb3899b853d\">\n",
              "  <button class=\"colab-df-quickchart\" onclick=\"quickchart('df-2e0c8c23-cd7b-4429-9b08-9cb3899b853d')\"\n",
              "            title=\"Suggest charts\"\n",
              "            style=\"display:none;\">\n",
              "\n",
              "<svg xmlns=\"http://www.w3.org/2000/svg\" height=\"24px\"viewBox=\"0 0 24 24\"\n",
              "     width=\"24px\">\n",
              "    <g>\n",
              "        <path d=\"M19 3H5c-1.1 0-2 .9-2 2v14c0 1.1.9 2 2 2h14c1.1 0 2-.9 2-2V5c0-1.1-.9-2-2-2zM9 17H7v-7h2v7zm4 0h-2V7h2v10zm4 0h-2v-4h2v4z\"/>\n",
              "    </g>\n",
              "</svg>\n",
              "  </button>\n",
              "\n",
              "<style>\n",
              "  .colab-df-quickchart {\n",
              "      --bg-color: #E8F0FE;\n",
              "      --fill-color: #1967D2;\n",
              "      --hover-bg-color: #E2EBFA;\n",
              "      --hover-fill-color: #174EA6;\n",
              "      --disabled-fill-color: #AAA;\n",
              "      --disabled-bg-color: #DDD;\n",
              "  }\n",
              "\n",
              "  [theme=dark] .colab-df-quickchart {\n",
              "      --bg-color: #3B4455;\n",
              "      --fill-color: #D2E3FC;\n",
              "      --hover-bg-color: #434B5C;\n",
              "      --hover-fill-color: #FFFFFF;\n",
              "      --disabled-bg-color: #3B4455;\n",
              "      --disabled-fill-color: #666;\n",
              "  }\n",
              "\n",
              "  .colab-df-quickchart {\n",
              "    background-color: var(--bg-color);\n",
              "    border: none;\n",
              "    border-radius: 50%;\n",
              "    cursor: pointer;\n",
              "    display: none;\n",
              "    fill: var(--fill-color);\n",
              "    height: 32px;\n",
              "    padding: 0;\n",
              "    width: 32px;\n",
              "  }\n",
              "\n",
              "  .colab-df-quickchart:hover {\n",
              "    background-color: var(--hover-bg-color);\n",
              "    box-shadow: 0 1px 2px rgba(60, 64, 67, 0.3), 0 1px 3px 1px rgba(60, 64, 67, 0.15);\n",
              "    fill: var(--button-hover-fill-color);\n",
              "  }\n",
              "\n",
              "  .colab-df-quickchart-complete:disabled,\n",
              "  .colab-df-quickchart-complete:disabled:hover {\n",
              "    background-color: var(--disabled-bg-color);\n",
              "    fill: var(--disabled-fill-color);\n",
              "    box-shadow: none;\n",
              "  }\n",
              "\n",
              "  .colab-df-spinner {\n",
              "    border: 2px solid var(--fill-color);\n",
              "    border-color: transparent;\n",
              "    border-bottom-color: var(--fill-color);\n",
              "    animation:\n",
              "      spin 1s steps(1) infinite;\n",
              "  }\n",
              "\n",
              "  @keyframes spin {\n",
              "    0% {\n",
              "      border-color: transparent;\n",
              "      border-bottom-color: var(--fill-color);\n",
              "      border-left-color: var(--fill-color);\n",
              "    }\n",
              "    20% {\n",
              "      border-color: transparent;\n",
              "      border-left-color: var(--fill-color);\n",
              "      border-top-color: var(--fill-color);\n",
              "    }\n",
              "    30% {\n",
              "      border-color: transparent;\n",
              "      border-left-color: var(--fill-color);\n",
              "      border-top-color: var(--fill-color);\n",
              "      border-right-color: var(--fill-color);\n",
              "    }\n",
              "    40% {\n",
              "      border-color: transparent;\n",
              "      border-right-color: var(--fill-color);\n",
              "      border-top-color: var(--fill-color);\n",
              "    }\n",
              "    60% {\n",
              "      border-color: transparent;\n",
              "      border-right-color: var(--fill-color);\n",
              "    }\n",
              "    80% {\n",
              "      border-color: transparent;\n",
              "      border-right-color: var(--fill-color);\n",
              "      border-bottom-color: var(--fill-color);\n",
              "    }\n",
              "    90% {\n",
              "      border-color: transparent;\n",
              "      border-bottom-color: var(--fill-color);\n",
              "    }\n",
              "  }\n",
              "</style>\n",
              "\n",
              "  <script>\n",
              "    async function quickchart(key) {\n",
              "      const quickchartButtonEl =\n",
              "        document.querySelector('#' + key + ' button');\n",
              "      quickchartButtonEl.disabled = true;  // To prevent multiple clicks.\n",
              "      quickchartButtonEl.classList.add('colab-df-spinner');\n",
              "      try {\n",
              "        const charts = await google.colab.kernel.invokeFunction(\n",
              "            'suggestCharts', [key], {});\n",
              "      } catch (error) {\n",
              "        console.error('Error during call to suggestCharts:', error);\n",
              "      }\n",
              "      quickchartButtonEl.classList.remove('colab-df-spinner');\n",
              "      quickchartButtonEl.classList.add('colab-df-quickchart-complete');\n",
              "    }\n",
              "    (() => {\n",
              "      let quickchartButtonEl =\n",
              "        document.querySelector('#df-2e0c8c23-cd7b-4429-9b08-9cb3899b853d button');\n",
              "      quickchartButtonEl.style.display =\n",
              "        google.colab.kernel.accessAllowed ? 'block' : 'none';\n",
              "    })();\n",
              "  </script>\n",
              "</div>\n",
              "\n",
              "    </div>\n",
              "  </div>\n"
            ],
            "application/vnd.google.colaboratory.intrinsic+json": {
              "type": "dataframe",
              "summary": "{\n  \"name\": \"iris_df\",\n  \"rows\": 5,\n  \"fields\": [\n    {\n      \"column\": \"sepal.length\",\n      \"properties\": {\n        \"dtype\": \"number\",\n        \"std\": 0.30331501776206193,\n        \"min\": 5.9,\n        \"max\": 6.7,\n        \"num_unique_values\": 5,\n        \"samples\": [\n          6.3,\n          5.9,\n          6.5\n        ],\n        \"semantic_type\": \"\",\n        \"description\": \"\"\n      }\n    },\n    {\n      \"column\": \"sepal.width\",\n      \"properties\": {\n        \"dtype\": \"number\",\n        \"std\": 0.31937438845342625,\n        \"min\": 2.5,\n        \"max\": 3.4,\n        \"num_unique_values\": 3,\n        \"samples\": [\n          3.0,\n          2.5,\n          3.4\n        ],\n        \"semantic_type\": \"\",\n        \"description\": \"\"\n      }\n    },\n    {\n      \"column\": \"petal.length\",\n      \"properties\": {\n        \"dtype\": \"number\",\n        \"std\": 0.14832396974191348,\n        \"min\": 5.0,\n        \"max\": 5.4,\n        \"num_unique_values\": 4,\n        \"samples\": [\n          5.0,\n          5.1,\n          5.2\n        ],\n        \"semantic_type\": \"\",\n        \"description\": \"\"\n      }\n    },\n    {\n      \"column\": \"petal.width\",\n      \"properties\": {\n        \"dtype\": \"number\",\n        \"std\": 0.23021728866442667,\n        \"min\": 1.8,\n        \"max\": 2.3,\n        \"num_unique_values\": 4,\n        \"samples\": [\n          1.9,\n          1.8,\n          2.3\n        ],\n        \"semantic_type\": \"\",\n        \"description\": \"\"\n      }\n    },\n    {\n      \"column\": \"variety\",\n      \"properties\": {\n        \"dtype\": \"category\",\n        \"num_unique_values\": 1,\n        \"samples\": [\n          \"Virginica\"\n        ],\n        \"semantic_type\": \"\",\n        \"description\": \"\"\n      }\n    }\n  ]\n}"
            }
          },
          "metadata": {},
          "execution_count": 30
        }
      ]
    },
    {
      "cell_type": "code",
      "source": [
        "iris_df['variety'].value_counts()"
      ],
      "metadata": {
        "colab": {
          "base_uri": "https://localhost:8080/"
        },
        "id": "PmI2sIstBwZy",
        "outputId": "a4d0c994-d745-44d6-ee3a-3537e9a76fc8"
      },
      "execution_count": 31,
      "outputs": [
        {
          "output_type": "execute_result",
          "data": {
            "text/plain": [
              "Setosa        50\n",
              "Versicolor    50\n",
              "Virginica     50\n",
              "Name: variety, dtype: int64"
            ]
          },
          "metadata": {},
          "execution_count": 31
        }
      ]
    },
    {
      "cell_type": "code",
      "source": [
        "iris_df['variety'] =  iris_df['variety'].replace('Setosa',0.0)\n",
        "iris_df['variety'] =  iris_df['variety'].replace('Versicolor',1.0)\n",
        "iris_df['variety'] =  iris_df['variety'].replace('Virginica',2.0)"
      ],
      "metadata": {
        "id": "s3Wf_oz6A5g6"
      },
      "execution_count": 32,
      "outputs": []
    },
    {
      "cell_type": "code",
      "source": [
        "iris_df['variety'].value_counts()"
      ],
      "metadata": {
        "colab": {
          "base_uri": "https://localhost:8080/"
        },
        "id": "YyTkaJ9wB_CY",
        "outputId": "3dd4f859-3335-4776-b358-f7c08438e4b6"
      },
      "execution_count": 33,
      "outputs": [
        {
          "output_type": "execute_result",
          "data": {
            "text/plain": [
              "0.0    50\n",
              "1.0    50\n",
              "2.0    50\n",
              "Name: variety, dtype: int64"
            ]
          },
          "metadata": {},
          "execution_count": 33
        }
      ]
    },
    {
      "cell_type": "code",
      "source": [
        "#splitting feature and target\n",
        "X = iris_df.drop('variety',axis=1)\n",
        "y = iris_df['variety']"
      ],
      "metadata": {
        "id": "etwGIGIxCBSz"
      },
      "execution_count": 34,
      "outputs": []
    },
    {
      "cell_type": "code",
      "source": [
        "#converting X to numpy array\n",
        "X = X.values\n",
        "y = y.values"
      ],
      "metadata": {
        "id": "-xazoWt5NDpT"
      },
      "execution_count": 35,
      "outputs": []
    },
    {
      "cell_type": "code",
      "source": [
        "X"
      ],
      "metadata": {
        "colab": {
          "base_uri": "https://localhost:8080/"
        },
        "id": "MSeeIHIlNH6Z",
        "outputId": "8d3c871b-f976-4d4b-c43a-dda2684630c0"
      },
      "execution_count": 36,
      "outputs": [
        {
          "output_type": "execute_result",
          "data": {
            "text/plain": [
              "array([[5.1, 3.5, 1.4, 0.2],\n",
              "       [4.9, 3. , 1.4, 0.2],\n",
              "       [4.7, 3.2, 1.3, 0.2],\n",
              "       [4.6, 3.1, 1.5, 0.2],\n",
              "       [5. , 3.6, 1.4, 0.2],\n",
              "       [5.4, 3.9, 1.7, 0.4],\n",
              "       [4.6, 3.4, 1.4, 0.3],\n",
              "       [5. , 3.4, 1.5, 0.2],\n",
              "       [4.4, 2.9, 1.4, 0.2],\n",
              "       [4.9, 3.1, 1.5, 0.1],\n",
              "       [5.4, 3.7, 1.5, 0.2],\n",
              "       [4.8, 3.4, 1.6, 0.2],\n",
              "       [4.8, 3. , 1.4, 0.1],\n",
              "       [4.3, 3. , 1.1, 0.1],\n",
              "       [5.8, 4. , 1.2, 0.2],\n",
              "       [5.7, 4.4, 1.5, 0.4],\n",
              "       [5.4, 3.9, 1.3, 0.4],\n",
              "       [5.1, 3.5, 1.4, 0.3],\n",
              "       [5.7, 3.8, 1.7, 0.3],\n",
              "       [5.1, 3.8, 1.5, 0.3],\n",
              "       [5.4, 3.4, 1.7, 0.2],\n",
              "       [5.1, 3.7, 1.5, 0.4],\n",
              "       [4.6, 3.6, 1. , 0.2],\n",
              "       [5.1, 3.3, 1.7, 0.5],\n",
              "       [4.8, 3.4, 1.9, 0.2],\n",
              "       [5. , 3. , 1.6, 0.2],\n",
              "       [5. , 3.4, 1.6, 0.4],\n",
              "       [5.2, 3.5, 1.5, 0.2],\n",
              "       [5.2, 3.4, 1.4, 0.2],\n",
              "       [4.7, 3.2, 1.6, 0.2],\n",
              "       [4.8, 3.1, 1.6, 0.2],\n",
              "       [5.4, 3.4, 1.5, 0.4],\n",
              "       [5.2, 4.1, 1.5, 0.1],\n",
              "       [5.5, 4.2, 1.4, 0.2],\n",
              "       [4.9, 3.1, 1.5, 0.2],\n",
              "       [5. , 3.2, 1.2, 0.2],\n",
              "       [5.5, 3.5, 1.3, 0.2],\n",
              "       [4.9, 3.6, 1.4, 0.1],\n",
              "       [4.4, 3. , 1.3, 0.2],\n",
              "       [5.1, 3.4, 1.5, 0.2],\n",
              "       [5. , 3.5, 1.3, 0.3],\n",
              "       [4.5, 2.3, 1.3, 0.3],\n",
              "       [4.4, 3.2, 1.3, 0.2],\n",
              "       [5. , 3.5, 1.6, 0.6],\n",
              "       [5.1, 3.8, 1.9, 0.4],\n",
              "       [4.8, 3. , 1.4, 0.3],\n",
              "       [5.1, 3.8, 1.6, 0.2],\n",
              "       [4.6, 3.2, 1.4, 0.2],\n",
              "       [5.3, 3.7, 1.5, 0.2],\n",
              "       [5. , 3.3, 1.4, 0.2],\n",
              "       [7. , 3.2, 4.7, 1.4],\n",
              "       [6.4, 3.2, 4.5, 1.5],\n",
              "       [6.9, 3.1, 4.9, 1.5],\n",
              "       [5.5, 2.3, 4. , 1.3],\n",
              "       [6.5, 2.8, 4.6, 1.5],\n",
              "       [5.7, 2.8, 4.5, 1.3],\n",
              "       [6.3, 3.3, 4.7, 1.6],\n",
              "       [4.9, 2.4, 3.3, 1. ],\n",
              "       [6.6, 2.9, 4.6, 1.3],\n",
              "       [5.2, 2.7, 3.9, 1.4],\n",
              "       [5. , 2. , 3.5, 1. ],\n",
              "       [5.9, 3. , 4.2, 1.5],\n",
              "       [6. , 2.2, 4. , 1. ],\n",
              "       [6.1, 2.9, 4.7, 1.4],\n",
              "       [5.6, 2.9, 3.6, 1.3],\n",
              "       [6.7, 3.1, 4.4, 1.4],\n",
              "       [5.6, 3. , 4.5, 1.5],\n",
              "       [5.8, 2.7, 4.1, 1. ],\n",
              "       [6.2, 2.2, 4.5, 1.5],\n",
              "       [5.6, 2.5, 3.9, 1.1],\n",
              "       [5.9, 3.2, 4.8, 1.8],\n",
              "       [6.1, 2.8, 4. , 1.3],\n",
              "       [6.3, 2.5, 4.9, 1.5],\n",
              "       [6.1, 2.8, 4.7, 1.2],\n",
              "       [6.4, 2.9, 4.3, 1.3],\n",
              "       [6.6, 3. , 4.4, 1.4],\n",
              "       [6.8, 2.8, 4.8, 1.4],\n",
              "       [6.7, 3. , 5. , 1.7],\n",
              "       [6. , 2.9, 4.5, 1.5],\n",
              "       [5.7, 2.6, 3.5, 1. ],\n",
              "       [5.5, 2.4, 3.8, 1.1],\n",
              "       [5.5, 2.4, 3.7, 1. ],\n",
              "       [5.8, 2.7, 3.9, 1.2],\n",
              "       [6. , 2.7, 5.1, 1.6],\n",
              "       [5.4, 3. , 4.5, 1.5],\n",
              "       [6. , 3.4, 4.5, 1.6],\n",
              "       [6.7, 3.1, 4.7, 1.5],\n",
              "       [6.3, 2.3, 4.4, 1.3],\n",
              "       [5.6, 3. , 4.1, 1.3],\n",
              "       [5.5, 2.5, 4. , 1.3],\n",
              "       [5.5, 2.6, 4.4, 1.2],\n",
              "       [6.1, 3. , 4.6, 1.4],\n",
              "       [5.8, 2.6, 4. , 1.2],\n",
              "       [5. , 2.3, 3.3, 1. ],\n",
              "       [5.6, 2.7, 4.2, 1.3],\n",
              "       [5.7, 3. , 4.2, 1.2],\n",
              "       [5.7, 2.9, 4.2, 1.3],\n",
              "       [6.2, 2.9, 4.3, 1.3],\n",
              "       [5.1, 2.5, 3. , 1.1],\n",
              "       [5.7, 2.8, 4.1, 1.3],\n",
              "       [6.3, 3.3, 6. , 2.5],\n",
              "       [5.8, 2.7, 5.1, 1.9],\n",
              "       [7.1, 3. , 5.9, 2.1],\n",
              "       [6.3, 2.9, 5.6, 1.8],\n",
              "       [6.5, 3. , 5.8, 2.2],\n",
              "       [7.6, 3. , 6.6, 2.1],\n",
              "       [4.9, 2.5, 4.5, 1.7],\n",
              "       [7.3, 2.9, 6.3, 1.8],\n",
              "       [6.7, 2.5, 5.8, 1.8],\n",
              "       [7.2, 3.6, 6.1, 2.5],\n",
              "       [6.5, 3.2, 5.1, 2. ],\n",
              "       [6.4, 2.7, 5.3, 1.9],\n",
              "       [6.8, 3. , 5.5, 2.1],\n",
              "       [5.7, 2.5, 5. , 2. ],\n",
              "       [5.8, 2.8, 5.1, 2.4],\n",
              "       [6.4, 3.2, 5.3, 2.3],\n",
              "       [6.5, 3. , 5.5, 1.8],\n",
              "       [7.7, 3.8, 6.7, 2.2],\n",
              "       [7.7, 2.6, 6.9, 2.3],\n",
              "       [6. , 2.2, 5. , 1.5],\n",
              "       [6.9, 3.2, 5.7, 2.3],\n",
              "       [5.6, 2.8, 4.9, 2. ],\n",
              "       [7.7, 2.8, 6.7, 2. ],\n",
              "       [6.3, 2.7, 4.9, 1.8],\n",
              "       [6.7, 3.3, 5.7, 2.1],\n",
              "       [7.2, 3.2, 6. , 1.8],\n",
              "       [6.2, 2.8, 4.8, 1.8],\n",
              "       [6.1, 3. , 4.9, 1.8],\n",
              "       [6.4, 2.8, 5.6, 2.1],\n",
              "       [7.2, 3. , 5.8, 1.6],\n",
              "       [7.4, 2.8, 6.1, 1.9],\n",
              "       [7.9, 3.8, 6.4, 2. ],\n",
              "       [6.4, 2.8, 5.6, 2.2],\n",
              "       [6.3, 2.8, 5.1, 1.5],\n",
              "       [6.1, 2.6, 5.6, 1.4],\n",
              "       [7.7, 3. , 6.1, 2.3],\n",
              "       [6.3, 3.4, 5.6, 2.4],\n",
              "       [6.4, 3.1, 5.5, 1.8],\n",
              "       [6. , 3. , 4.8, 1.8],\n",
              "       [6.9, 3.1, 5.4, 2.1],\n",
              "       [6.7, 3.1, 5.6, 2.4],\n",
              "       [6.9, 3.1, 5.1, 2.3],\n",
              "       [5.8, 2.7, 5.1, 1.9],\n",
              "       [6.8, 3.2, 5.9, 2.3],\n",
              "       [6.7, 3.3, 5.7, 2.5],\n",
              "       [6.7, 3. , 5.2, 2.3],\n",
              "       [6.3, 2.5, 5. , 1.9],\n",
              "       [6.5, 3. , 5.2, 2. ],\n",
              "       [6.2, 3.4, 5.4, 2.3],\n",
              "       [5.9, 3. , 5.1, 1.8]])"
            ]
          },
          "metadata": {},
          "execution_count": 36
        }
      ]
    },
    {
      "cell_type": "code",
      "source": [
        "y"
      ],
      "metadata": {
        "colab": {
          "base_uri": "https://localhost:8080/"
        },
        "id": "6lsSUC1kNiYb",
        "outputId": "458736e6-f579-458a-a005-766e68d6fef0"
      },
      "execution_count": 37,
      "outputs": [
        {
          "output_type": "execute_result",
          "data": {
            "text/plain": [
              "array([0., 0., 0., 0., 0., 0., 0., 0., 0., 0., 0., 0., 0., 0., 0., 0., 0.,\n",
              "       0., 0., 0., 0., 0., 0., 0., 0., 0., 0., 0., 0., 0., 0., 0., 0., 0.,\n",
              "       0., 0., 0., 0., 0., 0., 0., 0., 0., 0., 0., 0., 0., 0., 0., 0., 1.,\n",
              "       1., 1., 1., 1., 1., 1., 1., 1., 1., 1., 1., 1., 1., 1., 1., 1., 1.,\n",
              "       1., 1., 1., 1., 1., 1., 1., 1., 1., 1., 1., 1., 1., 1., 1., 1., 1.,\n",
              "       1., 1., 1., 1., 1., 1., 1., 1., 1., 1., 1., 1., 1., 1., 1., 2., 2.,\n",
              "       2., 2., 2., 2., 2., 2., 2., 2., 2., 2., 2., 2., 2., 2., 2., 2., 2.,\n",
              "       2., 2., 2., 2., 2., 2., 2., 2., 2., 2., 2., 2., 2., 2., 2., 2., 2.,\n",
              "       2., 2., 2., 2., 2., 2., 2., 2., 2., 2., 2., 2., 2., 2.])"
            ]
          },
          "metadata": {},
          "execution_count": 37
        }
      ]
    },
    {
      "cell_type": "code",
      "source": [
        "# train test split\n",
        "from sklearn.model_selection import train_test_split\n",
        "X_train,X_test,y_train,y_test = train_test_split(X,y,test_size=0.2,random_state=41)"
      ],
      "metadata": {
        "id": "dwkWTuILNrVi"
      },
      "execution_count": 38,
      "outputs": []
    },
    {
      "cell_type": "code",
      "source": [
        "#converting X features to Float tensors\n",
        "X_train = torch.FloatTensor(X_train)\n",
        "X_test = torch.FloatTensor(X_test)"
      ],
      "metadata": {
        "id": "UKrbHn-QNy0x"
      },
      "execution_count": 39,
      "outputs": []
    },
    {
      "cell_type": "code",
      "source": [
        "X_train"
      ],
      "metadata": {
        "colab": {
          "base_uri": "https://localhost:8080/"
        },
        "id": "uCejdTeKSkZd",
        "outputId": "6ed9cd68-4d68-4edd-bb2d-f6eb98597056"
      },
      "execution_count": 40,
      "outputs": [
        {
          "output_type": "execute_result",
          "data": {
            "text/plain": [
              "tensor([[5.7000, 2.6000, 3.5000, 1.0000],\n",
              "        [6.5000, 2.8000, 4.6000, 1.5000],\n",
              "        [4.9000, 2.5000, 4.5000, 1.7000],\n",
              "        [5.5000, 2.6000, 4.4000, 1.2000],\n",
              "        [6.7000, 3.0000, 5.2000, 2.3000],\n",
              "        [5.8000, 4.0000, 1.2000, 0.2000],\n",
              "        [6.9000, 3.1000, 5.1000, 2.3000],\n",
              "        [6.4000, 3.2000, 4.5000, 1.5000],\n",
              "        [6.9000, 3.1000, 5.4000, 2.1000],\n",
              "        [5.9000, 3.2000, 4.8000, 1.8000],\n",
              "        [6.2000, 2.9000, 4.3000, 1.3000],\n",
              "        [5.7000, 2.8000, 4.5000, 1.3000],\n",
              "        [5.2000, 4.1000, 1.5000, 0.1000],\n",
              "        [6.5000, 3.0000, 5.8000, 2.2000],\n",
              "        [6.3000, 3.4000, 5.6000, 2.4000],\n",
              "        [5.7000, 3.8000, 1.7000, 0.3000],\n",
              "        [6.7000, 2.5000, 5.8000, 1.8000],\n",
              "        [5.1000, 2.5000, 3.0000, 1.1000],\n",
              "        [4.8000, 3.0000, 1.4000, 0.3000],\n",
              "        [6.2000, 2.2000, 4.5000, 1.5000],\n",
              "        [6.4000, 2.7000, 5.3000, 1.9000],\n",
              "        [5.8000, 2.7000, 3.9000, 1.2000],\n",
              "        [7.4000, 2.8000, 6.1000, 1.9000],\n",
              "        [5.2000, 3.5000, 1.5000, 0.2000],\n",
              "        [5.5000, 4.2000, 1.4000, 0.2000],\n",
              "        [5.9000, 3.0000, 5.1000, 1.8000],\n",
              "        [6.2000, 2.8000, 4.8000, 1.8000],\n",
              "        [4.6000, 3.1000, 1.5000, 0.2000],\n",
              "        [5.6000, 3.0000, 4.5000, 1.5000],\n",
              "        [4.6000, 3.4000, 1.4000, 0.3000],\n",
              "        [4.9000, 3.1000, 1.5000, 0.1000],\n",
              "        [6.6000, 3.0000, 4.4000, 1.4000],\n",
              "        [5.4000, 3.9000, 1.3000, 0.4000],\n",
              "        [4.9000, 2.4000, 3.3000, 1.0000],\n",
              "        [6.2000, 3.4000, 5.4000, 2.3000],\n",
              "        [5.0000, 3.0000, 1.6000, 0.2000],\n",
              "        [6.3000, 2.3000, 4.4000, 1.3000],\n",
              "        [5.7000, 2.8000, 4.1000, 1.3000],\n",
              "        [5.6000, 2.8000, 4.9000, 2.0000],\n",
              "        [5.1000, 3.5000, 1.4000, 0.2000],\n",
              "        [5.7000, 2.9000, 4.2000, 1.3000],\n",
              "        [5.0000, 2.0000, 3.5000, 1.0000],\n",
              "        [4.8000, 3.4000, 1.9000, 0.2000],\n",
              "        [7.7000, 2.6000, 6.9000, 2.3000],\n",
              "        [6.3000, 2.5000, 4.9000, 1.5000],\n",
              "        [5.1000, 3.5000, 1.4000, 0.3000],\n",
              "        [6.5000, 3.0000, 5.5000, 1.8000],\n",
              "        [6.3000, 2.5000, 5.0000, 1.9000],\n",
              "        [4.4000, 3.2000, 1.3000, 0.2000],\n",
              "        [6.7000, 3.0000, 5.0000, 1.7000],\n",
              "        [5.4000, 3.7000, 1.5000, 0.2000],\n",
              "        [5.0000, 3.5000, 1.3000, 0.3000],\n",
              "        [6.7000, 3.3000, 5.7000, 2.1000],\n",
              "        [7.7000, 3.8000, 6.7000, 2.2000],\n",
              "        [5.7000, 2.5000, 5.0000, 2.0000],\n",
              "        [4.6000, 3.2000, 1.4000, 0.2000],\n",
              "        [4.7000, 3.2000, 1.6000, 0.2000],\n",
              "        [5.0000, 3.4000, 1.5000, 0.2000],\n",
              "        [4.8000, 3.4000, 1.6000, 0.2000],\n",
              "        [5.3000, 3.7000, 1.5000, 0.2000],\n",
              "        [6.1000, 2.6000, 5.6000, 1.4000],\n",
              "        [6.0000, 3.0000, 4.8000, 1.8000],\n",
              "        [5.5000, 3.5000, 1.3000, 0.2000],\n",
              "        [7.2000, 3.2000, 6.0000, 1.8000],\n",
              "        [7.0000, 3.2000, 4.7000, 1.4000],\n",
              "        [5.7000, 4.4000, 1.5000, 0.4000],\n",
              "        [4.3000, 3.0000, 1.1000, 0.1000],\n",
              "        [6.5000, 3.2000, 5.1000, 2.0000],\n",
              "        [5.8000, 2.7000, 5.1000, 1.9000],\n",
              "        [6.4000, 3.2000, 5.3000, 2.3000],\n",
              "        [6.1000, 2.8000, 4.7000, 1.2000],\n",
              "        [6.0000, 2.9000, 4.5000, 1.5000],\n",
              "        [5.8000, 2.7000, 5.1000, 1.9000],\n",
              "        [4.9000, 3.0000, 1.4000, 0.2000],\n",
              "        [6.6000, 2.9000, 4.6000, 1.3000],\n",
              "        [7.1000, 3.0000, 5.9000, 2.1000],\n",
              "        [6.4000, 2.9000, 4.3000, 1.3000],\n",
              "        [6.9000, 3.1000, 4.9000, 1.5000],\n",
              "        [4.4000, 2.9000, 1.4000, 0.2000],\n",
              "        [5.7000, 3.0000, 4.2000, 1.2000],\n",
              "        [5.1000, 3.7000, 1.5000, 0.4000],\n",
              "        [5.9000, 3.0000, 4.2000, 1.5000],\n",
              "        [5.4000, 3.4000, 1.5000, 0.4000],\n",
              "        [5.6000, 2.7000, 4.2000, 1.3000],\n",
              "        [7.3000, 2.9000, 6.3000, 1.8000],\n",
              "        [6.3000, 3.3000, 6.0000, 2.5000],\n",
              "        [6.7000, 3.3000, 5.7000, 2.5000],\n",
              "        [5.1000, 3.8000, 1.6000, 0.2000],\n",
              "        [4.9000, 3.1000, 1.5000, 0.2000],\n",
              "        [4.6000, 3.6000, 1.0000, 0.2000],\n",
              "        [5.1000, 3.8000, 1.9000, 0.4000],\n",
              "        [6.3000, 2.9000, 5.6000, 1.8000],\n",
              "        [5.4000, 3.9000, 1.7000, 0.4000],\n",
              "        [5.4000, 3.4000, 1.7000, 0.2000],\n",
              "        [5.6000, 2.5000, 3.9000, 1.1000],\n",
              "        [6.4000, 2.8000, 5.6000, 2.2000],\n",
              "        [5.0000, 3.2000, 1.2000, 0.2000],\n",
              "        [5.8000, 2.8000, 5.1000, 2.4000],\n",
              "        [4.8000, 3.0000, 1.4000, 0.1000],\n",
              "        [6.8000, 2.8000, 4.8000, 1.4000],\n",
              "        [7.2000, 3.0000, 5.8000, 1.6000],\n",
              "        [5.2000, 2.7000, 3.9000, 1.4000],\n",
              "        [5.0000, 3.6000, 1.4000, 0.2000],\n",
              "        [6.4000, 3.1000, 5.5000, 1.8000],\n",
              "        [5.1000, 3.8000, 1.5000, 0.3000],\n",
              "        [5.5000, 2.3000, 4.0000, 1.3000],\n",
              "        [5.2000, 3.4000, 1.4000, 0.2000],\n",
              "        [7.7000, 2.8000, 6.7000, 2.0000],\n",
              "        [5.8000, 2.6000, 4.0000, 1.2000],\n",
              "        [5.6000, 3.0000, 4.1000, 1.3000],\n",
              "        [7.6000, 3.0000, 6.6000, 2.1000],\n",
              "        [6.7000, 3.1000, 4.7000, 1.5000],\n",
              "        [5.4000, 3.0000, 4.5000, 1.5000],\n",
              "        [7.9000, 3.8000, 6.4000, 2.0000],\n",
              "        [7.2000, 3.6000, 6.1000, 2.5000],\n",
              "        [5.0000, 3.4000, 1.6000, 0.4000],\n",
              "        [5.5000, 2.5000, 4.0000, 1.3000],\n",
              "        [6.7000, 3.1000, 4.4000, 1.4000],\n",
              "        [5.5000, 2.4000, 3.8000, 1.1000],\n",
              "        [6.7000, 3.1000, 5.6000, 2.4000]])"
            ]
          },
          "metadata": {},
          "execution_count": 40
        }
      ]
    },
    {
      "cell_type": "code",
      "source": [
        "X_test"
      ],
      "metadata": {
        "colab": {
          "base_uri": "https://localhost:8080/"
        },
        "id": "eriOzQb9SmRd",
        "outputId": "a31ec4c9-02d1-4125-dc22-3c7b9660f434"
      },
      "execution_count": 41,
      "outputs": [
        {
          "output_type": "execute_result",
          "data": {
            "text/plain": [
              "tensor([[6.0000, 2.2000, 5.0000, 1.5000],\n",
              "        [6.4000, 2.8000, 5.6000, 2.1000],\n",
              "        [7.7000, 3.0000, 6.1000, 2.3000],\n",
              "        [6.1000, 3.0000, 4.6000, 1.4000],\n",
              "        [6.8000, 3.0000, 5.5000, 2.1000],\n",
              "        [6.1000, 2.8000, 4.0000, 1.3000],\n",
              "        [6.3000, 2.7000, 4.9000, 1.8000],\n",
              "        [6.0000, 3.4000, 4.5000, 1.6000],\n",
              "        [6.5000, 3.0000, 5.2000, 2.0000],\n",
              "        [6.8000, 3.2000, 5.9000, 2.3000],\n",
              "        [6.1000, 3.0000, 4.9000, 1.8000],\n",
              "        [5.1000, 3.4000, 1.5000, 0.2000],\n",
              "        [4.4000, 3.0000, 1.3000, 0.2000],\n",
              "        [5.0000, 2.3000, 3.3000, 1.0000],\n",
              "        [5.1000, 3.3000, 1.7000, 0.5000],\n",
              "        [6.3000, 2.8000, 5.1000, 1.5000],\n",
              "        [4.8000, 3.1000, 1.6000, 0.2000],\n",
              "        [6.0000, 2.7000, 5.1000, 1.6000],\n",
              "        [4.9000, 3.6000, 1.4000, 0.1000],\n",
              "        [4.5000, 2.3000, 1.3000, 0.3000],\n",
              "        [5.5000, 2.4000, 3.7000, 1.0000],\n",
              "        [6.9000, 3.2000, 5.7000, 2.3000],\n",
              "        [5.0000, 3.5000, 1.6000, 0.6000],\n",
              "        [4.7000, 3.2000, 1.3000, 0.2000],\n",
              "        [5.6000, 2.9000, 3.6000, 1.3000],\n",
              "        [6.0000, 2.2000, 4.0000, 1.0000],\n",
              "        [6.3000, 3.3000, 4.7000, 1.6000],\n",
              "        [5.8000, 2.7000, 4.1000, 1.0000],\n",
              "        [5.0000, 3.3000, 1.4000, 0.2000],\n",
              "        [6.1000, 2.9000, 4.7000, 1.4000]])"
            ]
          },
          "metadata": {},
          "execution_count": 41
        }
      ]
    },
    {
      "cell_type": "code",
      "source": [
        "# converting y features to long tensors because y fetures are integers\n",
        "y_train = torch.LongTensor(y_train)\n",
        "y_test = torch.LongTensor(y_test)"
      ],
      "metadata": {
        "id": "fLpppBzoSpom"
      },
      "execution_count": 42,
      "outputs": []
    },
    {
      "cell_type": "code",
      "source": [
        "y_train"
      ],
      "metadata": {
        "colab": {
          "base_uri": "https://localhost:8080/"
        },
        "id": "Z8_ys9RRaNBY",
        "outputId": "11e98fd0-5562-4e11-feb6-5b6c52c0ee41"
      },
      "execution_count": 43,
      "outputs": [
        {
          "output_type": "execute_result",
          "data": {
            "text/plain": [
              "tensor([1, 1, 2, 1, 2, 0, 2, 1, 2, 1, 1, 1, 0, 2, 2, 0, 2, 1, 0, 1, 2, 1, 2, 0,\n",
              "        0, 2, 2, 0, 1, 0, 0, 1, 0, 1, 2, 0, 1, 1, 2, 0, 1, 1, 0, 2, 1, 0, 2, 2,\n",
              "        0, 1, 0, 0, 2, 2, 2, 0, 0, 0, 0, 0, 2, 2, 0, 2, 1, 0, 0, 2, 2, 2, 1, 1,\n",
              "        2, 0, 1, 2, 1, 1, 0, 1, 0, 1, 0, 1, 2, 2, 2, 0, 0, 0, 0, 2, 0, 0, 1, 2,\n",
              "        0, 2, 0, 1, 2, 1, 0, 2, 0, 1, 0, 2, 1, 1, 2, 1, 1, 2, 2, 0, 1, 1, 1, 2])"
            ]
          },
          "metadata": {},
          "execution_count": 43
        }
      ]
    },
    {
      "cell_type": "code",
      "source": [
        "# set the criterion to measure the error\n",
        "criterion = nn.CrossEntropyLoss()\n",
        "# set the optimizer,set the learning rate\n",
        "optimizer = torch.optim.Adam(model.parameters(),lr=0.01)\n"
      ],
      "metadata": {
        "id": "KlTdlFVhaOZI"
      },
      "execution_count": 44,
      "outputs": []
    },
    {
      "cell_type": "code",
      "source": [
        "for param in model.parameters():\n",
        "  print(type(param),param.size())"
      ],
      "metadata": {
        "colab": {
          "base_uri": "https://localhost:8080/"
        },
        "id": "CdODhM72bEub",
        "outputId": "5dc95d39-e88a-43d0-924c-814e6d2cb460"
      },
      "execution_count": 45,
      "outputs": [
        {
          "output_type": "stream",
          "name": "stdout",
          "text": [
            "<class 'torch.nn.parameter.Parameter'> torch.Size([8, 4])\n",
            "<class 'torch.nn.parameter.Parameter'> torch.Size([8])\n",
            "<class 'torch.nn.parameter.Parameter'> torch.Size([9, 8])\n",
            "<class 'torch.nn.parameter.Parameter'> torch.Size([9])\n",
            "<class 'torch.nn.parameter.Parameter'> torch.Size([3, 9])\n",
            "<class 'torch.nn.parameter.Parameter'> torch.Size([3])\n"
          ]
        }
      ]
    },
    {
      "cell_type": "code",
      "source": [
        "# train the model\n",
        "epochs = 100\n",
        "losses = []\n",
        "for i in range(epochs):\n",
        "  # Go forward to get a prediction\n",
        "  y_pred = model.forward(X_train) # get predicted result\n",
        "\n",
        "  # measure the loss\n",
        "  loss = criterion(y_pred,y_train)\n",
        "\n",
        "  #keep track of our losses\n",
        "  losses.append(loss.detach().numpy())\n",
        "\n",
        "  #print every 10 epoch\n",
        "  if i%10 == 0:\n",
        "    print(f'Epoch:{i}, loss:{loss}')\n",
        "\n",
        "  #Do backpropagation to improve results\n",
        "  optimizer.zero_grad()\n",
        "  loss.backward()\n",
        "  optimizer.step()\n"
      ],
      "metadata": {
        "colab": {
          "base_uri": "https://localhost:8080/"
        },
        "id": "kNB-JeKtbKMw",
        "outputId": "753635e7-88be-4b74-a7b7-0f0ea7346123"
      },
      "execution_count": 46,
      "outputs": [
        {
          "output_type": "stream",
          "name": "stdout",
          "text": [
            "Epoch:0, loss:1.125203251838684\n",
            "Epoch:10, loss:1.0097211599349976\n",
            "Epoch:20, loss:0.8162347674369812\n",
            "Epoch:30, loss:0.585993230342865\n",
            "Epoch:40, loss:0.4003389775753021\n",
            "Epoch:50, loss:0.26794716715812683\n",
            "Epoch:60, loss:0.1796349585056305\n",
            "Epoch:70, loss:0.12165623158216476\n",
            "Epoch:80, loss:0.0860651507973671\n",
            "Epoch:90, loss:0.06522614508867264\n"
          ]
        }
      ]
    },
    {
      "cell_type": "code",
      "source": [
        "#graph it out\n",
        "plt.plot(range(epochs),losses)\n",
        "plt.xlabel('epochs')\n",
        "plt.ylabel('loss')"
      ],
      "metadata": {
        "colab": {
          "base_uri": "https://localhost:8080/",
          "height": 467
        },
        "id": "st9Hi5rmcBYy",
        "outputId": "49be4622-1721-4b3d-9721-5bda91bae252"
      },
      "execution_count": 47,
      "outputs": [
        {
          "output_type": "execute_result",
          "data": {
            "text/plain": [
              "Text(0, 0.5, 'loss')"
            ]
          },
          "metadata": {},
          "execution_count": 47
        },
        {
          "output_type": "display_data",
          "data": {
            "text/plain": [
              "<Figure size 640x480 with 1 Axes>"
            ],
            "image/png": "[encoded data removed]"
          },
          "metadata": {}
        }
      ]
    },
    {
      "cell_type": "markdown",
      "source": [
        "# Evaluate the model with testing data"
      ],
      "metadata": {
        "id": "W03aNfhJnAWO"
      }
    },
    {
      "cell_type": "code",
      "source": [
        "with torch.no_grad(): # stops the backpropagation bcz we dont need that for testing the test data\n",
        "  y_eval = model.forward(X_test)\n",
        "  loss = criterion(y_eval,y_test) # evaluate the loss between predicted and test data\n",
        "\n"
      ],
      "metadata": {
        "id": "vVfu_CmIftf6"
      },
      "execution_count": 48,
      "outputs": []
    },
    {
      "cell_type": "code",
      "source": [
        "loss"
      ],
      "metadata": {
        "colab": {
          "base_uri": "https://localhost:8080/"
        },
        "id": "FtobgY4_nvqp",
        "outputId": "52275805-8340-4f95-e51d-ceb94464f5e5"
      },
      "execution_count": 49,
      "outputs": [
        {
          "output_type": "execute_result",
          "data": {
            "text/plain": [
              "tensor(0.1315)"
            ]
          },
          "metadata": {},
          "execution_count": 49
        }
      ]
    },
    {
      "cell_type": "code",
      "source": [
        "# how the test data worked\n",
        "\n",
        "correct = 0\n",
        "with torch.no_grad(): # stopping the backpropagation\n",
        "  for i,data in enumerate(X_test):\n",
        "    y_val = model.forward(data) # forward passing the data and getting\n",
        "                                # each value in y_val\n",
        "\n",
        "\n",
        "    # if statement to identify the species from predictions\n",
        "    if y_val.argmax().item()==0:\n",
        "      species = 'Setosa'\n",
        "    elif y_val.argmax().item()==1:\n",
        "      species = 'versi color'\n",
        "    else:\n",
        "      species = 'virginica'\n",
        "\n",
        "\n",
        "    # if statement to identify the species from testing data\n",
        "    if y_test[i] == 0:\n",
        "      x = 'setosa'\n",
        "    elif y_test[i] ==1:\n",
        "      x = 'versicolor'\n",
        "    else:\n",
        "      x = 'virginica'\n",
        "\n",
        "    # this will tell us which flower class, the network think it is\n",
        "    print(f'{i+1}-->{(str(y_val))} original:{y_test[i]} ({x}) prediction:{y_val.argmax().item()} ({species})')\n",
        "\n",
        "    if y_val.argmax().item() == y_test[i]: # code to take the number of\n",
        "      correct +=1                          # correct output\n",
        "  print(f'we got {correct} correct predictions out of {i+1} test values')"
      ],
      "metadata": {
        "colab": {
          "base_uri": "https://localhost:8080/"
        },
        "id": "oIaj5Dx8oDwG",
        "outputId": "22a12c85-f6eb-49d6-adf4-2dd2ed5b98d1"
      },
      "execution_count": 63,
      "outputs": [
        {
          "output_type": "stream",
          "name": "stdout",
          "text": [
            "1-->tensor([-5.8771,  4.4629,  6.5155]) original:2 (virginica)  prediction:2 (virginica)\n",
            "2-->tensor([-7.5451,  4.1668,  9.7293]) original:2 (virginica)  prediction:2 (virginica)\n",
            "3-->tensor([-8.4517,  5.1275, 10.2015]) original:2 (virginica)  prediction:2 (virginica)\n",
            "4-->tensor([-4.3411,  5.6280,  2.5636]) original:1 (versicolor)  prediction:1 (versi color)\n",
            "5-->tensor([-7.1838,  4.8757,  8.3023]) original:2 (virginica)  prediction:2 (virginica)\n",
            "6-->tensor([-3.3940,  5.3421,  1.2802]) original:1 (versicolor)  prediction:1 (versi color)\n",
            "7-->tensor([-5.9240,  4.9826,  6.0025]) original:2 (virginica)  prediction:2 (virginica)\n",
            "8-->tensor([-4.2895,  5.7016,  2.3920]) original:1 (versicolor)  prediction:1 (versi color)\n",
            "9-->tensor([-6.5369,  4.9261,  7.1291]) original:2 (virginica)  prediction:2 (virginica)\n",
            "10-->tensor([-8.0526,  4.4129, 10.3325]) original:2 (virginica)  prediction:2 (virginica)\n",
            "11-->tensor([-5.6775,  4.9505,  5.6248]) original:2 (virginica)  prediction:2 (virginica)\n",
            "12-->tensor([ 4.5748, -2.2579, -2.8925]) original:0 (setosa)  prediction:0 (Setosa)\n",
            "13-->tensor([ 4.2646, -2.0055, -2.7342]) original:0 (setosa)  prediction:0 (Setosa)\n",
            "14-->tensor([-2.1081,  4.0482,  0.5803]) original:1 (versicolor)  prediction:1 (versi color)\n",
            "15-->tensor([ 3.4608, -1.2147, -2.3488]) original:0 (setosa)  prediction:0 (Setosa)\n",
            "16-->tensor([-5.4739,  5.1174,  5.0966]) original:2 (virginica)  prediction:1 (versi color)\n",
            "17-->tensor([ 4.0637, -1.8045, -2.6504]) original:0 (setosa)  prediction:0 (Setosa)\n",
            "18-->tensor([-5.8090,  4.6057,  6.2494]) original:1 (versicolor)  prediction:2 (virginica)\n",
            "19-->tensor([ 4.9250, -2.5763, -3.0545]) original:0 (setosa)  prediction:0 (Setosa)\n",
            "20-->tensor([ 3.4559, -1.2559, -2.3637]) original:0 (setosa)  prediction:0 (Setosa)\n",
            "21-->tensor([-2.6161,  4.5584,  0.8575]) original:1 (versicolor)  prediction:1 (versi color)\n",
            "22-->tensor([-7.7427,  4.7379,  9.4233]) original:2 (virginica)  prediction:2 (virginica)\n",
            "23-->tensor([ 3.5776, -1.3269, -2.4109]) original:0 (setosa)  prediction:0 (Setosa)\n",
            "24-->tensor([ 4.5445, -2.2478, -2.8698]) original:0 (setosa)  prediction:0 (Setosa)\n",
            "25-->tensor([-2.6548,  4.6138,  0.8825]) original:1 (versicolor)  prediction:1 (versi color)\n",
            "26-->tensor([-3.2832,  5.2189,  1.2163]) original:1 (versicolor)  prediction:1 (versi color)\n",
            "27-->tensor([-4.6527,  5.7790,  2.9302]) original:1 (versicolor)  prediction:1 (versi color)\n",
            "28-->tensor([-2.9436,  4.8858,  1.0381]) original:1 (versicolor)  prediction:1 (versi color)\n",
            "29-->tensor([ 4.5932, -2.2788, -2.8989]) original:0 (setosa)  prediction:0 (Setosa)\n",
            "30-->tensor([-4.5797,  5.4566,  3.1690]) original:1 (versicolor)  prediction:1 (versi color)\n",
            "we got 28 correct predictions out of 30 test values\n"
          ]
        }
      ]
    },
    {
      "cell_type": "markdown",
      "source": [
        "# Evaluating the neural network with random datas"
      ],
      "metadata": {
        "id": "UeN6cv3kKTo5"
      }
    },
    {
      "cell_type": "code",
      "source": [
        "new_iris = torch.tensor([5.4,2.65,2.5,1.3])\n",
        "with torch.no_grad():\n",
        "  pred = model(new_iris)\n",
        "  print(pred)\n",
        "  print(pred.argmax().item())\n"
      ],
      "metadata": {
        "colab": {
          "base_uri": "https://localhost:8080/"
        },
        "id": "mg92SYoTEePB",
        "outputId": "c0f5cab2-3fca-4eb7-de9a-e2fe81074d51"
      },
      "execution_count": 67,
      "outputs": [
        {
          "output_type": "stream",
          "name": "stdout",
          "text": [
            "tensor([-0.9299,  2.9763, -0.0343])\n",
            "1\n"
          ]
        }
      ]
    },
    {
      "cell_type": "code",
      "source": [
        "newer_iris = torch.tensor([6.2,2.87,4.1,4.8])\n",
        "with torch.no_grad():\n",
        "  pred = model(newer_iris)\n",
        "  print(pred)\n",
        "  print(pred.argmax().item())"
      ],
      "metadata": {
        "colab": {
          "base_uri": "https://localhost:8080/"
        },
        "id": "l2nfym59Lpjp",
        "outputId": "7a177ec1-fc68-4900-ac63-4817eb6a3546"
      },
      "execution_count": 68,
      "outputs": [
        {
          "output_type": "stream",
          "name": "stdout",
          "text": [
            "tensor([-10.6826,   3.9137,  15.2920])\n",
            "2\n"
          ]
        }
      ]
    },
    {
      "cell_type": "markdown",
      "source": [
        "# Save our NN model"
      ],
      "metadata": {
        "id": "Kd9ccZQ-MdDk"
      }
    },
    {
      "cell_type": "code",
      "source": [
        "# saving the model\n",
        "torch.save(model.state_dict(),'my_iris_model.pt')"
      ],
      "metadata": {
        "id": "dPFH4HxuMaO9"
      },
      "execution_count": 69,
      "outputs": []
    },
    {
      "cell_type": "code",
      "source": [
        "# loading the saved model\n",
        "new_model = Model()\n",
        "new_model.load_state_dict(torch.load('my_iris_model.pt'))"
      ],
      "metadata": {
        "colab": {
          "base_uri": "https://localhost:8080/"
        },
        "id": "niJcy6-kNW1O",
        "outputId": "f8439d06-e2ca-43a0-c94d-b7c27372029a"
      },
      "execution_count": 70,
      "outputs": [
        {
          "output_type": "execute_result",
          "data": {
            "text/plain": [
              "<All keys matched successfully>"
            ]
          },
          "metadata": {},
          "execution_count": 70
        }
      ]
    },
    {
      "cell_type": "code",
      "source": [
        "# making sure it loaded correctly\n",
        "new_model.eval()"
      ],
      "metadata": {
        "colab": {
          "base_uri": "https://localhost:8080/"
        },
        "id": "TrCalW7JNwUO",
        "outputId": "e405978e-384e-42db-9315-46e583e38ccc"
      },
      "execution_count": 71,
      "outputs": [
        {
          "output_type": "execute_result",
          "data": {
            "text/plain": [
              "Model(\n",
              "  (fc1): Linear(in_features=4, out_features=8, bias=True)\n",
              "  (fc2): Linear(in_features=8, out_features=9, bias=True)\n",
              "  (out): Linear(in_features=9, out_features=3, bias=True)\n",
              ")"
            ]
          },
          "metadata": {},
          "execution_count": 71
        }
      ]
    },
    {
      "cell_type": "code",
      "source": [],
      "metadata": {
        "id": "4kdHkK0mN5VE"
      },
      "execution_count": null,
      "outputs": []
    }
  ]
}