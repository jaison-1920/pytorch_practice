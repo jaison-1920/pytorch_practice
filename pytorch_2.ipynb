{
  "nbformat": 4,
  "nbformat_minor": 0,
  "metadata": {
    "colab": {
      "provenance": [],
      "authorship_tag": "ABX9TyOVwsLdo2MpvjRFopxbRzSu",
      "include_colab_link": true
    },
    "kernelspec": {
      "name": "python3",
      "display_name": "Python 3"
    },
    "language_info": {
      "name": "python"
    }
  },
  "cells": [
    {
      "cell_type": "markdown",
      "metadata": {
        "id": "view-in-github",
        "colab_type": "text"
      },
      "source": [
        "<a href=\"https://colab.research.google.com/github/jaison-1920/pytorch_practice/blob/main/pytorch_2.ipynb\" target=\"_parent\"><img src=\"https://colab.research.google.com/assets/colab-badge.svg\" alt=\"Open In Colab\"/></a>"
      ]
    },
    {
      "cell_type": "markdown",
      "source": [
        "# Implementing Neural Network"
      ],
      "metadata": {
        "id": "1-JXdeNnYNO5"
      }
    },
    {
      "cell_type": "code",
      "execution_count": 2,
      "metadata": {
        "id": "_g2O-V7kYG54"
      },
      "outputs": [],
      "source": [
        "import torch\n",
        "import torch.nn as nn\n",
        "import torch.nn.functional as F"
      ]
    },
    {
      "cell_type": "markdown",
      "source": [
        "This Notebook is to:\n",
        "* Import Iris Dataset\n",
        "* Setup a neural network using pytorch\n",
        "* predict the model"
      ],
      "metadata": {
        "id": "3Q-UtUwKZCxl"
      }
    },
    {
      "cell_type": "code",
      "source": [
        "#implementing the notebook\n"
      ],
      "metadata": {
        "id": "rVgR4NtTY5AB"
      },
      "execution_count": null,
      "outputs": []
    }
  ]
}